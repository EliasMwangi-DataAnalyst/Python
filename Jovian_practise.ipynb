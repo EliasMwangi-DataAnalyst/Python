{
  "nbformat": 4,
  "nbformat_minor": 0,
  "metadata": {
    "colab": {
      "provenance": [],
      "authorship_tag": "ABX9TyOQjmq5Iwo60S6XWiH1mHYT",
      "include_colab_link": true
    },
    "kernelspec": {
      "name": "python3",
      "display_name": "Python 3"
    },
    "language_info": {
      "name": "python"
    }
  },
  "cells": [
    {
      "cell_type": "markdown",
      "metadata": {
        "id": "view-in-github",
        "colab_type": "text"
      },
      "source": [
        "<a href=\"https://colab.research.google.com/github/EliasMwangi-DataAnalyst/Python/blob/main/Jovian_practise.ipynb\" target=\"_parent\"><img src=\"https://colab.research.google.com/assets/colab-badge.svg\" alt=\"Open In Colab\"/></a>"
      ]
    },
    {
      "cell_type": "markdown",
      "source": [
        "## Basics"
      ],
      "metadata": {
        "id": "eMYog3qHW6zf"
      }
    },
    {
      "cell_type": "code",
      "source": [
        "name = \"Eli Ma\""
      ],
      "metadata": {
        "id": "mHFMzduGW8RC"
      },
      "execution_count": null,
      "outputs": []
    },
    {
      "cell_type": "code",
      "source": [
        "age = 24"
      ],
      "metadata": {
        "id": "yESb4rO1XG4L"
      },
      "execution_count": null,
      "outputs": []
    },
    {
      "cell_type": "code",
      "source": [
        "has_android_phone = True"
      ],
      "metadata": {
        "id": "WhtEpKDyXJRS"
      },
      "execution_count": null,
      "outputs": []
    },
    {
      "cell_type": "code",
      "source": [
        "name, age, has_android_phone"
      ],
      "metadata": {
        "colab": {
          "base_uri": "https://localhost:8080/"
        },
        "id": "VhM5BaV3XNyc",
        "outputId": "aac9b409-aa77-4595-d280-4a74758c6317"
      },
      "execution_count": null,
      "outputs": [
        {
          "output_type": "execute_result",
          "data": {
            "text/plain": [
              "('Eli Ma', 24, True)"
            ]
          },
          "metadata": {},
          "execution_count": 7
        }
      ]
    },
    {
      "cell_type": "code",
      "source": [
        "person = {\n",
        "    \"Name\": \"Eli Ma\",\n",
        "    \"Age\": 24,\n",
        "    \"HasAndroidPhone\": False\n",
        "}"
      ],
      "metadata": {
        "id": "HiGndW-xXYf0"
      },
      "execution_count": null,
      "outputs": []
    },
    {
      "cell_type": "code",
      "source": [
        "print(\"{} is aged {}, and owns an {}.\".format(\n",
        "    person[\"Name\"],\n",
        "    person[\"Age\"],\n",
        "    \"Android phone\" if person[\"HasAndroidPhone\"] else \"iPhone\"\n",
        "))"
      ],
      "metadata": {
        "colab": {
          "base_uri": "https://localhost:8080/"
        },
        "id": "KQQbeiG9YaKl",
        "outputId": "452867b0-91a5-4458-9389-35734c3de643"
      },
      "execution_count": null,
      "outputs": [
        {
          "output_type": "stream",
          "name": "stdout",
          "text": [
            "Eli Ma is aged 24, and owns an iPhone.\n"
          ]
        }
      ]
    },
    {
      "cell_type": "code",
      "source": [
        "person.keys()"
      ],
      "metadata": {
        "colab": {
          "base_uri": "https://localhost:8080/"
        },
        "id": "7vhcP_3_ZyKp",
        "outputId": "f1505965-131a-4d52-9982-0a36e4a2707b"
      },
      "execution_count": null,
      "outputs": [
        {
          "output_type": "execute_result",
          "data": {
            "text/plain": [
              "dict_keys(['Name', 'Age', 'HasAndroidPhone'])"
            ]
          },
          "metadata": {},
          "execution_count": 21
        }
      ]
    },
    {
      "cell_type": "code",
      "source": [
        "import builtins\n",
        "for key, value in (person.items()):\n",
        "  print(f\"The key '{key}' has the value '{value}' of the type {builtins.type(value)}\")"
      ],
      "metadata": {
        "colab": {
          "base_uri": "https://localhost:8080/"
        },
        "id": "W6Vci33SZXhL",
        "outputId": "a1250860-3eac-4523-daf4-7ef9925389d0"
      },
      "execution_count": null,
      "outputs": [
        {
          "output_type": "stream",
          "name": "stdout",
          "text": [
            "The key 'Name' has the value 'Eli Ma' of the type <class 'str'>\n",
            "The key 'Age' has the value '24' of the type <class 'int'>\n",
            "The key 'HasAndroidPhone' has the value 'False' of the type <class 'bool'>\n"
          ]
        }
      ]
    },
    {
      "cell_type": "code",
      "source": [],
      "metadata": {
        "id": "1yjIL0-FeOvb"
      },
      "execution_count": null,
      "outputs": []
    },
    {
      "cell_type": "markdown",
      "source": [
        "## Lists"
      ],
      "metadata": {
        "id": "QjgbszC01isb"
      }
    },
    {
      "cell_type": "code",
      "source": [
        "my_list = [\"red\", \"dog\", \"cat\", True]"
      ],
      "metadata": {
        "id": "grnqJOuS1ke2"
      },
      "execution_count": null,
      "outputs": []
    },
    {
      "cell_type": "code",
      "source": [
        "type(my_list)"
      ],
      "metadata": {
        "colab": {
          "base_uri": "https://localhost:8080/"
        },
        "id": "wuaGDsUG1tQx",
        "outputId": "9054dc3f-a29b-4547-b5ae-42806c027130"
      },
      "execution_count": null,
      "outputs": [
        {
          "output_type": "execute_result",
          "data": {
            "text/plain": [
              "list"
            ]
          },
          "metadata": {},
          "execution_count": 7
        }
      ]
    },
    {
      "cell_type": "code",
      "source": [
        "print(\"My favourite color is\", my_list[0])"
      ],
      "metadata": {
        "colab": {
          "base_uri": "https://localhost:8080/"
        },
        "id": "lB6-z31X10pP",
        "outputId": "b330c193-8098-4ac5-f058-e7ea286bf5eb"
      },
      "execution_count": null,
      "outputs": [
        {
          "output_type": "stream",
          "name": "stdout",
          "text": [
            "My favourite color is red\n"
          ]
        }
      ]
    },
    {
      "cell_type": "code",
      "source": [
        "print(\"I have {} pets.\".format(my_list[3:4]))"
      ],
      "metadata": {
        "colab": {
          "base_uri": "https://localhost:8080/"
        },
        "id": "ylW-4bB92ay7",
        "outputId": "eba9d473-f5a1-4594-93f6-33cc856f6b67"
      },
      "execution_count": null,
      "outputs": [
        {
          "output_type": "stream",
          "name": "stdout",
          "text": [
            "I have [True] pets.\n"
          ]
        }
      ]
    },
    {
      "cell_type": "code",
      "source": [
        "my_list[3:4]"
      ],
      "metadata": {
        "colab": {
          "base_uri": "https://localhost:8080/"
        },
        "id": "VHy3ok153qUp",
        "outputId": "5c5c4aa6-04ad-4da3-e1f0-e0dc6c73e47f"
      },
      "execution_count": null,
      "outputs": [
        {
          "output_type": "execute_result",
          "data": {
            "text/plain": [
              "[True]"
            ]
          },
          "metadata": {},
          "execution_count": 16
        }
      ]
    },
    {
      "cell_type": "code",
      "source": [
        "if my_list[3] == 0:\n",
        "  print(\"I have previous programming experience\")\n",
        "else:\n",
        "  print(\"I do not have previous programming experience\")"
      ],
      "metadata": {
        "colab": {
          "base_uri": "https://localhost:8080/"
        },
        "id": "Z3HaOv2m2vtV",
        "outputId": "69ea38bc-7841-4f78-c9cb-f54ed5e13f94"
      },
      "execution_count": null,
      "outputs": [
        {
          "output_type": "stream",
          "name": "stdout",
          "text": [
            "I do not have previous programming experience\n"
          ]
        }
      ]
    },
    {
      "cell_type": "code",
      "source": [
        "my_list.append(7)"
      ],
      "metadata": {
        "id": "Ay3GF_M33RaE"
      },
      "execution_count": null,
      "outputs": []
    },
    {
      "cell_type": "code",
      "source": [
        "my_list.count"
      ],
      "metadata": {
        "colab": {
          "base_uri": "https://localhost:8080/"
        },
        "id": "m2UEOytZ5KRL",
        "outputId": "10d118e4-83c7-4381-ab0d-3af7ad2bb172"
      },
      "execution_count": null,
      "outputs": [
        {
          "output_type": "execute_result",
          "data": {
            "text/plain": [
              "<function list.count(value, /)>"
            ]
          },
          "metadata": {},
          "execution_count": 24
        }
      ]
    },
    {
      "cell_type": "code",
      "source": [
        "my_list.pop(0)"
      ],
      "metadata": {
        "colab": {
          "base_uri": "https://localhost:8080/",
          "height": 35
        },
        "id": "q8Z2XFd95Lox",
        "outputId": "34c48fc3-d6f4-4f0f-95a0-7d5798599359"
      },
      "execution_count": null,
      "outputs": [
        {
          "output_type": "execute_result",
          "data": {
            "text/plain": [
              "'red'"
            ],
            "application/vnd.google.colaboratory.intrinsic+json": {
              "type": "string"
            }
          },
          "metadata": {},
          "execution_count": 22
        }
      ]
    },
    {
      "cell_type": "code",
      "source": [
        "help(list)"
      ],
      "metadata": {
        "id": "_TWerbe45Sob"
      },
      "execution_count": null,
      "outputs": []
    },
    {
      "cell_type": "code",
      "source": [
        "print(\"The list has {} elements\".format(len(my_list)))"
      ],
      "metadata": {
        "colab": {
          "base_uri": "https://localhost:8080/"
        },
        "id": "klQkxF7a5WQ8",
        "outputId": "14544168-c4cd-4908-bcf6-42638d433a48"
      },
      "execution_count": null,
      "outputs": [
        {
          "output_type": "stream",
          "name": "stdout",
          "text": [
            "The list has 4 elements\n"
          ]
        }
      ]
    },
    {
      "cell_type": "code",
      "source": [
        "len(my_list)"
      ],
      "metadata": {
        "colab": {
          "base_uri": "https://localhost:8080/"
        },
        "id": "TTj0D7Ik5qo8",
        "outputId": "788475ba-bf76-4e32-e5d3-c38b7cae57c3"
      },
      "execution_count": null,
      "outputs": [
        {
          "output_type": "execute_result",
          "data": {
            "text/plain": [
              "4"
            ]
          },
          "metadata": {},
          "execution_count": 30
        }
      ]
    },
    {
      "cell_type": "markdown",
      "source": [
        "## Conditions and Loops"
      ],
      "metadata": {
        "id": "1spB_H4d6zzd"
      }
    },
    {
      "cell_type": "code",
      "source": [
        "# sum of numbers divisible by 7 between 18 and 534\n",
        "sum_of_numbers=sum(range(18, 535, 7))\n",
        "print('The sum of all the numbers divisible by 7 between 18 and 534 is', sum_of_numbers)\n"
      ],
      "metadata": {
        "colab": {
          "base_uri": "https://localhost:8080/"
        },
        "id": "sXeBcLkzCM0I",
        "outputId": "e1e7ee67-79ab-4ecd-e108-95ba82c9e431"
      },
      "execution_count": 1,
      "outputs": [
        {
          "output_type": "stream",
          "name": "stdout",
          "text": [
            "The sum of all the numbers divisible by 7 between 18 and 534 is 20239\n"
          ]
        }
      ]
    },
    {
      "cell_type": "markdown",
      "source": [
        "A travel company wants to fly a plane to the Bahamas. Flying the plane costs 5000 dollars. So far, 29 people have signed up for the trip. If the company charges 200 dollars per ticket, what is the profit made by the company?"
      ],
      "metadata": {
        "id": "lYI1ZhFVFF88"
      }
    },
    {
      "cell_type": "code",
      "source": [
        "cost_of_flying_plane = 5000"
      ],
      "metadata": {
        "id": "_C4FhzajFJGD"
      },
      "execution_count": 3,
      "outputs": []
    },
    {
      "cell_type": "code",
      "source": [
        "number_of_passengers = 29"
      ],
      "metadata": {
        "id": "f8jjl9qqFPWB"
      },
      "execution_count": 4,
      "outputs": []
    },
    {
      "cell_type": "code",
      "source": [
        "price_of_ticket= 200"
      ],
      "metadata": {
        "id": "zsmISk5BFR6f"
      },
      "execution_count": 5,
      "outputs": []
    },
    {
      "cell_type": "code",
      "source": [
        "profit= (price_of_ticket*number_of_passengers) - cost_of_flying_plane\n",
        "print(\"The company makes a profit of {} dollars\".format (profit))"
      ],
      "metadata": {
        "colab": {
          "base_uri": "https://localhost:8080/"
        },
        "id": "-649JsokFUpv",
        "outputId": "206c5aa8-dd44-4894-ceca-3af375ec9004"
      },
      "execution_count": 9,
      "outputs": [
        {
          "output_type": "stream",
          "name": "stdout",
          "text": [
            "The company makes a profit of 800 dollars\n"
          ]
        }
      ]
    },
    {
      "cell_type": "markdown",
      "source": [
        "Out of the 29 people who took the flight, only 12 buy tickets to return from the Bahamas on the same plane. If the flying the plane back also costs 5000 dollars, and does the company make an overall profit or loss? The company charges the same fee of 200 dollars per ticket for the return flight."
      ],
      "metadata": {
        "id": "vJQMLZyUIP8M"
      }
    },
    {
      "cell_type": "code",
      "source": [
        "# variable for return passengers\n",
        "number_of_passengers_return = 12"
      ],
      "metadata": {
        "id": "00Ld53aIITR3"
      },
      "execution_count": 10,
      "outputs": []
    },
    {
      "cell_type": "code",
      "source": [
        "profit_return = (number_of_passengers_return * price_of_ticket) - 5000\n",
        "profit_return"
      ],
      "metadata": {
        "colab": {
          "base_uri": "https://localhost:8080/"
        },
        "id": "06u89Zu4IgeQ",
        "outputId": "f733b25f-6234-4589-f08f-493aca17b1e4"
      },
      "execution_count": 11,
      "outputs": [
        {
          "output_type": "execute_result",
          "data": {
            "text/plain": [
              "-2600"
            ]
          },
          "metadata": {},
          "execution_count": 11
        }
      ]
    },
    {
      "cell_type": "code",
      "source": [
        "overall_profit = profit + profit_return"
      ],
      "metadata": {
        "id": "hHuj9ZMdIzzP"
      },
      "execution_count": 12,
      "outputs": []
    },
    {
      "cell_type": "code",
      "source": [
        "if overall_profit>=1:\n",
        "  print(\"The company makes an overall profit of {} dollars\".format(overall_profit))\n",
        "else:\n",
        "  print(\"The company makes an overall loss of {} dolars\".format(overall_profit))"
      ],
      "metadata": {
        "colab": {
          "base_uri": "https://localhost:8080/"
        },
        "id": "GbPif--aKc3q",
        "outputId": "bfec71bb-2ec9-43dc-fe40-1247230000e3"
      },
      "execution_count": 15,
      "outputs": [
        {
          "output_type": "stream",
          "name": "stdout",
          "text": [
            "The company makes an overall loss of -1800 dolars\n"
          ]
        }
      ]
    },
    {
      "cell_type": "markdown",
      "source": [
        "Twitter Sentiment Analysis"
      ],
      "metadata": {
        "id": "y-FeUjb1LSWk"
      }
    },
    {
      "cell_type": "code",
      "source": [
        "tweets = [\n",
        "    \"Wow, what a great day today!! #sunshine\",\n",
        "    \"I feel sad about the things going on around us. #covid19\",\n",
        "    \"I'm really excited to learn Python with @JovianML #zerotopandas\",\n",
        "    \"This is a really nice song. #linkinpark\",\n",
        "    \"The python programming language is useful for data science\",\n",
        "    \"Why do bad things happen to me?\",\n",
        "    \"Apple announces the release of the new iPhone 12. Fans are excited.\",\n",
        "    \"Spent my day with family!! #happy\",\n",
        "    \"Check out my blog post on common string operations in Python. #zerotopandas\",\n",
        "    \"Freecodecamp has great coding tutorials. #skillup\"\n",
        "]"
      ],
      "metadata": {
        "id": "eItjNv9zLTUQ"
      },
      "execution_count": 57,
      "outputs": []
    },
    {
      "cell_type": "code",
      "source": [
        "# tweets the dataset contains\n",
        "number_of_tweets= len(tweets)\n",
        "number_of_tweets"
      ],
      "metadata": {
        "colab": {
          "base_uri": "https://localhost:8080/"
        },
        "id": "wXtEegs8LcLa",
        "outputId": "351f79e8-63ca-445d-81e8-e1ab4b4753e0"
      },
      "execution_count": 24,
      "outputs": [
        {
          "output_type": "execute_result",
          "data": {
            "text/plain": [
              "10"
            ]
          },
          "metadata": {},
          "execution_count": 24
        }
      ]
    },
    {
      "cell_type": "code",
      "source": [
        "# Create two lists with happy and sad words to check the tweets\n",
        "#List of happy words\n",
        "happy_words = ['great', 'excited', 'happy', 'nice', 'wonderful', 'amazing', 'good', 'best']\n",
        "\n",
        "# list of sad words\n",
        "sad_words = ['sad', 'bad', 'tragic', 'unhappy', 'worst']"
      ],
      "metadata": {
        "id": "oQy9dtXiNT8d"
      },
      "execution_count": 91,
      "outputs": []
    },
    {
      "cell_type": "code",
      "source": [
        "# identify whether a tweet is happy\n",
        "sample_tweet= tweets[5]\n",
        "\n",
        "is_tweet_happy = False\n",
        "# Get a word in happy words\n",
        "for word in happy_words:\n",
        "  # Check if the tweet contains the word\n",
        "  if word in sample_tweet:\n",
        "    #word found! Mark the tweet as happy\n",
        "    is_tweet_happy = True"
      ],
      "metadata": {
        "id": "d-9grgnKPXGs"
      },
      "execution_count": 41,
      "outputs": []
    },
    {
      "cell_type": "code",
      "source": [
        "is_tweet_happy"
      ],
      "metadata": {
        "colab": {
          "base_uri": "https://localhost:8080/"
        },
        "id": "KmUoJI9CQR4N",
        "outputId": "86471a9b-0bce-45b3-b43b-3892ac56b283"
      },
      "execution_count": 52,
      "outputs": [
        {
          "output_type": "execute_result",
          "data": {
            "text/plain": [
              "False"
            ]
          },
          "metadata": {},
          "execution_count": 52
        }
      ]
    },
    {
      "cell_type": "code",
      "source": [
        "# initialize a counter for happy tweets\n",
        "number_of_happy_tweets = 0\n",
        "\n",
        "# iterate though each tweet\n",
        "for tweet in tweets:\n",
        "  # check if any happy word is in tweet\n",
        "  if any(word in tweet for word in happy_words):\n",
        "    number_of_happy_tweets +=1\n"
      ],
      "metadata": {
        "id": "bBVFhF6rWCDW"
      },
      "execution_count": 89,
      "outputs": []
    },
    {
      "cell_type": "code",
      "source": [
        "#Output number of happy tweets\n",
        "print(\"Number of happy tweets:\", number_of_happy_tweets)\n"
      ],
      "metadata": {
        "colab": {
          "base_uri": "https://localhost:8080/"
        },
        "id": "j_XU6bZoajx_",
        "outputId": "ec10a89b-bd45-42d4-a452-bd59f24fc5d6"
      },
      "execution_count": 90,
      "outputs": [
        {
          "output_type": "stream",
          "name": "stdout",
          "text": [
            "Number of happy tweets: 6\n"
          ]
        }
      ]
    },
    {
      "cell_type": "code",
      "source": [],
      "metadata": {
        "id": "exanuKcKebwZ"
      },
      "execution_count": null,
      "outputs": []
    }
  ]
}