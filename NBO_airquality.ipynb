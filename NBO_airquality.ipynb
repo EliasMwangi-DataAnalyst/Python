{
 "cells": [
  {
   "cell_type": "markdown",
   "id": "9fdaad15-b8ee-4237-8e51-6fe15b9504db",
   "metadata": {},
   "source": [
    "# TIME SERIES DATA Cleaning"
   ]
  },
  {
   "cell_type": "code",
   "execution_count": 58,
   "id": "3469b3fe-708e-4619-84f3-3d4bdd3ba911",
   "metadata": {
    "tags": []
   },
   "outputs": [],
   "source": [
    "#import libraries \n",
    "\n",
    "import pandas as pd\n",
    "import pytz"
   ]
  },
  {
   "cell_type": "markdown",
   "id": "5327ec09-5895-4ea9-a80e-02e8915909ea",
   "metadata": {},
   "source": [
    "## Data Wrangling"
   ]
  },
  {
   "cell_type": "raw",
   "id": "43369d0a-d80d-49e5-a7bc-87dc224fc3b1",
   "metadata": {},
   "source": [
    "The data is stored in csv files therefore we will wrangle the data with pandas"
   ]
  },
  {
   "cell_type": "code",
   "execution_count": 59,
   "id": "96ae6daa-c05c-4378-a0d8-0fd90945e531",
   "metadata": {
    "tags": []
   },
   "outputs": [],
   "source": [
    "df1 = pd.read_csv(\"data/tmp_424i9_2.csv\")"
   ]
  },
  {
   "cell_type": "code",
   "execution_count": 60,
   "id": "4642092a-6ff7-496a-a21a-d52b3b0f1eaf",
   "metadata": {
    "tags": []
   },
   "outputs": [
    {
     "data": {
      "text/html": [
       "<div>\n",
       "<style scoped>\n",
       "    .dataframe tbody tr th:only-of-type {\n",
       "        vertical-align: middle;\n",
       "    }\n",
       "\n",
       "    .dataframe tbody tr th {\n",
       "        vertical-align: top;\n",
       "    }\n",
       "\n",
       "    .dataframe thead th {\n",
       "        text-align: right;\n",
       "    }\n",
       "</style>\n",
       "<table border=\"1\" class=\"dataframe\">\n",
       "  <thead>\n",
       "    <tr style=\"text-align: right;\">\n",
       "      <th></th>\n",
       "      <th>sensor_id;sensor_type;location;lat;lon;timestamp;value_type;value</th>\n",
       "    </tr>\n",
       "  </thead>\n",
       "  <tbody>\n",
       "    <tr>\n",
       "      <th>0</th>\n",
       "      <td>158;pms5003;33;-1.255;36.693;2023-02-01T00:00:...</td>\n",
       "    </tr>\n",
       "    <tr>\n",
       "      <th>1</th>\n",
       "      <td>158;pms5003;33;-1.255;36.693;2023-02-01T00:00:...</td>\n",
       "    </tr>\n",
       "    <tr>\n",
       "      <th>2</th>\n",
       "      <td>158;pms5003;33;-1.255;36.693;2023-02-01T00:00:...</td>\n",
       "    </tr>\n",
       "    <tr>\n",
       "      <th>3</th>\n",
       "      <td>103;SDS011;7;-1.298;36.791;2023-02-01T00:00:39...</td>\n",
       "    </tr>\n",
       "    <tr>\n",
       "      <th>4</th>\n",
       "      <td>103;SDS011;7;-1.298;36.791;2023-02-01T00:00:39...</td>\n",
       "    </tr>\n",
       "  </tbody>\n",
       "</table>\n",
       "</div>"
      ],
      "text/plain": [
       "  sensor_id;sensor_type;location;lat;lon;timestamp;value_type;value\n",
       "0  158;pms5003;33;-1.255;36.693;2023-02-01T00:00:...               \n",
       "1  158;pms5003;33;-1.255;36.693;2023-02-01T00:00:...               \n",
       "2  158;pms5003;33;-1.255;36.693;2023-02-01T00:00:...               \n",
       "3  103;SDS011;7;-1.298;36.791;2023-02-01T00:00:39...               \n",
       "4  103;SDS011;7;-1.298;36.791;2023-02-01T00:00:39...               "
      ]
     },
     "execution_count": 60,
     "metadata": {},
     "output_type": "execute_result"
    }
   ],
   "source": [
    "df1.head()"
   ]
  },
  {
   "cell_type": "code",
   "execution_count": 61,
   "id": "4695499c-a48d-4ee2-b2a9-b7a383d882f1",
   "metadata": {
    "tags": []
   },
   "outputs": [
    {
     "name": "stdout",
     "output_type": "stream",
     "text": [
      "<class 'pandas.core.frame.DataFrame'>\n",
      "RangeIndex: 440898 entries, 0 to 440897\n",
      "Data columns (total 1 columns):\n",
      " #   Column                                                             Non-Null Count   Dtype \n",
      "---  ------                                                             --------------   ----- \n",
      " 0   sensor_id;sensor_type;location;lat;lon;timestamp;value_type;value  440898 non-null  object\n",
      "dtypes: object(1)\n",
      "memory usage: 3.4+ MB\n"
     ]
    }
   ],
   "source": [
    "df1.info()"
   ]
  },
  {
   "cell_type": "markdown",
   "id": "48cfa597-fb29-4b27-94c6-8f767c5e280b",
   "metadata": {},
   "source": [
    "We will need to do some data cleaning. its a csv file putting all the data into a single string and column, \n",
    "luckily theres no NAN/ missing values. "
   ]
  },
  {
   "cell_type": "raw",
   "id": "7902d610-b3a7-49c4-bd09-670a3514f4e0",
   "metadata": {},
   "source": [
    "But first lets use a function to get all the data we need.Then use the code created for cleaning data to provide a wholesome clean dataset to explore and work with. "
   ]
  },
  {
   "cell_type": "code",
   "execution_count": null,
   "id": "4919033e-9b9d-4073-8bc8-443be3e1f57e",
   "metadata": {},
   "outputs": [],
   "source": []
  },
  {
   "cell_type": "markdown",
   "id": "f8b4ab03-11f7-4113-9295-d4630a2211b1",
   "metadata": {},
   "source": [
    "## Data Cleaning"
   ]
  },
  {
   "cell_type": "code",
   "execution_count": 62,
   "id": "6d1b35be-4e30-4e03-90c3-e142c72c7ef9",
   "metadata": {
    "tags": []
   },
   "outputs": [
    {
     "name": "stdout",
     "output_type": "stream",
     "text": [
      "<class 'pandas.core.frame.DataFrame'>\n",
      "RangeIndex: 440898 entries, 0 to 440897\n",
      "Data columns (total 8 columns):\n",
      " #   Column       Non-Null Count   Dtype \n",
      "---  ------       --------------   ----- \n",
      " 0   sensor_id    440898 non-null  object\n",
      " 1   sensor_type  440898 non-null  object\n",
      " 2   location     440898 non-null  object\n",
      " 3   lat          440898 non-null  object\n",
      " 4   lon          440898 non-null  object\n",
      " 5   timestamp    440898 non-null  object\n",
      " 6   value_type   440898 non-null  object\n",
      " 7   value        440898 non-null  object\n",
      "dtypes: object(8)\n",
      "memory usage: 26.9+ MB\n"
     ]
    }
   ],
   "source": [
    "# split the columns\n",
    "df1_split = df1[\"sensor_id;sensor_type;location;lat;lon;timestamp;value_type;value\"].str.split (';', expand= True)\n",
    "\n",
    "#rename the columns \n",
    "df1_split.columns = [\"sensor_id\", \"sensor_type\", \"location\",\"lat\", \"lon\", \"timestamp\", \"value_type\", \"value\"]\n",
    "\n",
    "df1_split.info()"
   ]
  },
  {
   "cell_type": "code",
   "execution_count": 63,
   "id": "91afc626-9551-476b-83bb-9564f3abc67f",
   "metadata": {
    "tags": []
   },
   "outputs": [
    {
     "data": {
      "text/html": [
       "<div>\n",
       "<style scoped>\n",
       "    .dataframe tbody tr th:only-of-type {\n",
       "        vertical-align: middle;\n",
       "    }\n",
       "\n",
       "    .dataframe tbody tr th {\n",
       "        vertical-align: top;\n",
       "    }\n",
       "\n",
       "    .dataframe thead th {\n",
       "        text-align: right;\n",
       "    }\n",
       "</style>\n",
       "<table border=\"1\" class=\"dataframe\">\n",
       "  <thead>\n",
       "    <tr style=\"text-align: right;\">\n",
       "      <th></th>\n",
       "      <th>sensor_id</th>\n",
       "      <th>sensor_type</th>\n",
       "      <th>location</th>\n",
       "      <th>lat</th>\n",
       "      <th>lon</th>\n",
       "      <th>timestamp</th>\n",
       "      <th>value_type</th>\n",
       "      <th>value</th>\n",
       "    </tr>\n",
       "  </thead>\n",
       "  <tbody>\n",
       "    <tr>\n",
       "      <th>0</th>\n",
       "      <td>158</td>\n",
       "      <td>pms5003</td>\n",
       "      <td>33</td>\n",
       "      <td>-1.255</td>\n",
       "      <td>36.693</td>\n",
       "      <td>2023-02-01T00:00:35.980314+00:00</td>\n",
       "      <td>P2</td>\n",
       "      <td>73.40</td>\n",
       "    </tr>\n",
       "    <tr>\n",
       "      <th>1</th>\n",
       "      <td>158</td>\n",
       "      <td>pms5003</td>\n",
       "      <td>33</td>\n",
       "      <td>-1.255</td>\n",
       "      <td>36.693</td>\n",
       "      <td>2023-02-01T00:00:35.980314+00:00</td>\n",
       "      <td>P1</td>\n",
       "      <td>89.00</td>\n",
       "    </tr>\n",
       "    <tr>\n",
       "      <th>2</th>\n",
       "      <td>158</td>\n",
       "      <td>pms5003</td>\n",
       "      <td>33</td>\n",
       "      <td>-1.255</td>\n",
       "      <td>36.693</td>\n",
       "      <td>2023-02-01T00:00:35.980314+00:00</td>\n",
       "      <td>P0</td>\n",
       "      <td>69.40</td>\n",
       "    </tr>\n",
       "    <tr>\n",
       "      <th>3</th>\n",
       "      <td>103</td>\n",
       "      <td>SDS011</td>\n",
       "      <td>7</td>\n",
       "      <td>-1.298</td>\n",
       "      <td>36.791</td>\n",
       "      <td>2023-02-01T00:00:39.779205+00:00</td>\n",
       "      <td>P2</td>\n",
       "      <td>4</td>\n",
       "    </tr>\n",
       "    <tr>\n",
       "      <th>4</th>\n",
       "      <td>103</td>\n",
       "      <td>SDS011</td>\n",
       "      <td>7</td>\n",
       "      <td>-1.298</td>\n",
       "      <td>36.791</td>\n",
       "      <td>2023-02-01T00:00:39.779205+00:00</td>\n",
       "      <td>P1</td>\n",
       "      <td>4</td>\n",
       "    </tr>\n",
       "  </tbody>\n",
       "</table>\n",
       "</div>"
      ],
      "text/plain": [
       "  sensor_id sensor_type location     lat     lon  \\\n",
       "0       158     pms5003       33  -1.255  36.693   \n",
       "1       158     pms5003       33  -1.255  36.693   \n",
       "2       158     pms5003       33  -1.255  36.693   \n",
       "3       103      SDS011        7  -1.298  36.791   \n",
       "4       103      SDS011        7  -1.298  36.791   \n",
       "\n",
       "                          timestamp value_type  value  \n",
       "0  2023-02-01T00:00:35.980314+00:00         P2  73.40  \n",
       "1  2023-02-01T00:00:35.980314+00:00         P1  89.00  \n",
       "2  2023-02-01T00:00:35.980314+00:00         P0  69.40  \n",
       "3  2023-02-01T00:00:39.779205+00:00         P2      4  \n",
       "4  2023-02-01T00:00:39.779205+00:00         P1      4  "
      ]
     },
     "execution_count": 63,
     "metadata": {},
     "output_type": "execute_result"
    }
   ],
   "source": [
    "df1_split.head()"
   ]
  },
  {
   "cell_type": "raw",
   "id": "3e3384c5-8a07-4470-8509-a288932fa206",
   "metadata": {},
   "source": [
    "Now we need to access the data type of each variable. The value type, location, sensor type and sensor_id can remain as strings(object). the rest will be changed accordingly."
   ]
  },
  {
   "cell_type": "code",
   "execution_count": 64,
   "id": "abf5e825-709e-4b38-85dd-8c1499c91246",
   "metadata": {
    "tags": []
   },
   "outputs": [
    {
     "name": "stdout",
     "output_type": "stream",
     "text": [
      "<class 'pandas.core.frame.DataFrame'>\n",
      "RangeIndex: 440898 entries, 0 to 440897\n",
      "Data columns (total 8 columns):\n",
      " #   Column       Non-Null Count   Dtype  \n",
      "---  ------       --------------   -----  \n",
      " 0   sensor_id    440898 non-null  object \n",
      " 1   sensor_type  440898 non-null  object \n",
      " 2   location     440898 non-null  object \n",
      " 3   lat          440898 non-null  float64\n",
      " 4   lon          440898 non-null  float64\n",
      " 5   timestamp    440898 non-null  object \n",
      " 6   value_type   440898 non-null  object \n",
      " 7   value        440898 non-null  float64\n",
      "dtypes: float64(3), object(5)\n",
      "memory usage: 26.9+ MB\n"
     ]
    }
   ],
   "source": [
    "# change the value column data to float \n",
    "df1_split[[\"value\", \"lat\", \"lon\"]] = df1_split[[\"value\", \"lat\", \"lon\"]].astype(float)\n",
    "\n",
    "df1_split.info()"
   ]
  },
  {
   "cell_type": "code",
   "execution_count": 65,
   "id": "aa2565a2-d3e1-4310-b5d9-ae9c21431bc9",
   "metadata": {
    "tags": []
   },
   "outputs": [],
   "source": [
    "# change timestamp to datetime fortmat \n",
    "df1_split[\"timestamp\"]= pd.to_datetime(df1_split[\"timestamp\"], errors = \"coerce\")"
   ]
  },
  {
   "cell_type": "code",
   "execution_count": 66,
   "id": "9f585598-070b-44c3-99a3-719e0e52e701",
   "metadata": {
    "tags": []
   },
   "outputs": [],
   "source": [
    "df1_split.set_index(\"timestamp\", inplace=True)"
   ]
  },
  {
   "cell_type": "code",
   "execution_count": 67,
   "id": "9c14f0d8-b807-40eb-a8cf-e8d3dff36d47",
   "metadata": {
    "tags": []
   },
   "outputs": [
    {
     "name": "stdout",
     "output_type": "stream",
     "text": [
      "<class 'pandas.core.frame.DataFrame'>\n",
      "DatetimeIndex: 440898 entries, 2023-02-01 00:00:35.980314+00:00 to 2023-02-28 23:56:18.379591+00:00\n",
      "Data columns (total 7 columns):\n",
      " #   Column       Non-Null Count   Dtype  \n",
      "---  ------       --------------   -----  \n",
      " 0   sensor_id    440898 non-null  object \n",
      " 1   sensor_type  440898 non-null  object \n",
      " 2   location     440898 non-null  object \n",
      " 3   lat          440898 non-null  float64\n",
      " 4   lon          440898 non-null  float64\n",
      " 5   value_type   440898 non-null  object \n",
      " 6   value        440898 non-null  float64\n",
      "dtypes: float64(3), object(4)\n",
      "memory usage: 26.9+ MB\n"
     ]
    }
   ],
   "source": [
    "df1_split.info()"
   ]
  },
  {
   "cell_type": "code",
   "execution_count": 68,
   "id": "b6990f2a-201f-44b8-80cd-d368a08a106b",
   "metadata": {
    "tags": []
   },
   "outputs": [],
   "source": [
    "if df1_split.index.tz is None:\n",
    "    df1_split.index = df1_split.index.tz_localize(\"UTC\")"
   ]
  },
  {
   "cell_type": "code",
   "execution_count": 69,
   "id": "e242adf2-7313-43ba-a9cf-c332aa0329ef",
   "metadata": {
    "tags": []
   },
   "outputs": [],
   "source": [
    "# change timezone to EAT \n",
    "df1_split.index = df1_split.index.tz_convert(\"Africa/Nairobi\")"
   ]
  },
  {
   "cell_type": "code",
   "execution_count": 70,
   "id": "eed83a85-0176-44e7-81d7-212662430738",
   "metadata": {
    "tags": []
   },
   "outputs": [
    {
     "data": {
      "text/html": [
       "<div>\n",
       "<style scoped>\n",
       "    .dataframe tbody tr th:only-of-type {\n",
       "        vertical-align: middle;\n",
       "    }\n",
       "\n",
       "    .dataframe tbody tr th {\n",
       "        vertical-align: top;\n",
       "    }\n",
       "\n",
       "    .dataframe thead th {\n",
       "        text-align: right;\n",
       "    }\n",
       "</style>\n",
       "<table border=\"1\" class=\"dataframe\">\n",
       "  <thead>\n",
       "    <tr style=\"text-align: right;\">\n",
       "      <th></th>\n",
       "      <th>sensor_id</th>\n",
       "      <th>sensor_type</th>\n",
       "      <th>location</th>\n",
       "      <th>lat</th>\n",
       "      <th>lon</th>\n",
       "      <th>value_type</th>\n",
       "      <th>value</th>\n",
       "    </tr>\n",
       "    <tr>\n",
       "      <th>timestamp</th>\n",
       "      <th></th>\n",
       "      <th></th>\n",
       "      <th></th>\n",
       "      <th></th>\n",
       "      <th></th>\n",
       "      <th></th>\n",
       "      <th></th>\n",
       "    </tr>\n",
       "  </thead>\n",
       "  <tbody>\n",
       "    <tr>\n",
       "      <th>2023-02-01 03:00:35.980314+03:00</th>\n",
       "      <td>158</td>\n",
       "      <td>pms5003</td>\n",
       "      <td>33</td>\n",
       "      <td>-1.255</td>\n",
       "      <td>36.693</td>\n",
       "      <td>P2</td>\n",
       "      <td>73.4</td>\n",
       "    </tr>\n",
       "    <tr>\n",
       "      <th>2023-02-01 03:00:35.980314+03:00</th>\n",
       "      <td>158</td>\n",
       "      <td>pms5003</td>\n",
       "      <td>33</td>\n",
       "      <td>-1.255</td>\n",
       "      <td>36.693</td>\n",
       "      <td>P1</td>\n",
       "      <td>89.0</td>\n",
       "    </tr>\n",
       "    <tr>\n",
       "      <th>2023-02-01 03:00:35.980314+03:00</th>\n",
       "      <td>158</td>\n",
       "      <td>pms5003</td>\n",
       "      <td>33</td>\n",
       "      <td>-1.255</td>\n",
       "      <td>36.693</td>\n",
       "      <td>P0</td>\n",
       "      <td>69.4</td>\n",
       "    </tr>\n",
       "    <tr>\n",
       "      <th>2023-02-01 03:00:39.779205+03:00</th>\n",
       "      <td>103</td>\n",
       "      <td>SDS011</td>\n",
       "      <td>7</td>\n",
       "      <td>-1.298</td>\n",
       "      <td>36.791</td>\n",
       "      <td>P2</td>\n",
       "      <td>4.0</td>\n",
       "    </tr>\n",
       "    <tr>\n",
       "      <th>2023-02-01 03:00:39.779205+03:00</th>\n",
       "      <td>103</td>\n",
       "      <td>SDS011</td>\n",
       "      <td>7</td>\n",
       "      <td>-1.298</td>\n",
       "      <td>36.791</td>\n",
       "      <td>P1</td>\n",
       "      <td>4.0</td>\n",
       "    </tr>\n",
       "  </tbody>\n",
       "</table>\n",
       "</div>"
      ],
      "text/plain": [
       "                                 sensor_id sensor_type location    lat  \\\n",
       "timestamp                                                                \n",
       "2023-02-01 03:00:35.980314+03:00       158     pms5003       33 -1.255   \n",
       "2023-02-01 03:00:35.980314+03:00       158     pms5003       33 -1.255   \n",
       "2023-02-01 03:00:35.980314+03:00       158     pms5003       33 -1.255   \n",
       "2023-02-01 03:00:39.779205+03:00       103      SDS011        7 -1.298   \n",
       "2023-02-01 03:00:39.779205+03:00       103      SDS011        7 -1.298   \n",
       "\n",
       "                                     lon value_type  value  \n",
       "timestamp                                                   \n",
       "2023-02-01 03:00:35.980314+03:00  36.693         P2   73.4  \n",
       "2023-02-01 03:00:35.980314+03:00  36.693         P1   89.0  \n",
       "2023-02-01 03:00:35.980314+03:00  36.693         P0   69.4  \n",
       "2023-02-01 03:00:39.779205+03:00  36.791         P2    4.0  \n",
       "2023-02-01 03:00:39.779205+03:00  36.791         P1    4.0  "
      ]
     },
     "execution_count": 70,
     "metadata": {},
     "output_type": "execute_result"
    }
   ],
   "source": [
    "df1_split.head()"
   ]
  },
  {
   "cell_type": "code",
   "execution_count": 76,
   "id": "e121e444-fe40-46f0-b3dc-d15059e6bb89",
   "metadata": {
    "tags": []
   },
   "outputs": [
    {
     "data": {
      "text/plain": [
       "array(['P2', 'P1', 'P0', 'humidity', 'temperature'], dtype=object)"
      ]
     },
     "execution_count": 76,
     "metadata": {},
     "output_type": "execute_result"
    }
   ],
   "source": [
    "df1_split[\"value_type\"].unique()"
   ]
  },
  {
   "cell_type": "code",
   "execution_count": 79,
   "id": "6d1860e8-71b6-4e06-a5fb-dbc3eb372a75",
   "metadata": {
    "tags": []
   },
   "outputs": [],
   "source": [
    "df1_split.drop(columns = [\"location\", \"sensor_type\", \"sensor_id\", 'lat', \"lon\"], inplace=True)"
   ]
  },
  {
   "cell_type": "code",
   "execution_count": 57,
   "id": "84e4fb2f-a183-4b73-bf64-3dda81c96fc5",
   "metadata": {
    "tags": []
   },
   "outputs": [
    {
     "data": {
      "text/html": [
       "<div>\n",
       "<style scoped>\n",
       "    .dataframe tbody tr th:only-of-type {\n",
       "        vertical-align: middle;\n",
       "    }\n",
       "\n",
       "    .dataframe tbody tr th {\n",
       "        vertical-align: top;\n",
       "    }\n",
       "\n",
       "    .dataframe thead th {\n",
       "        text-align: right;\n",
       "    }\n",
       "</style>\n",
       "<table border=\"1\" class=\"dataframe\">\n",
       "  <thead>\n",
       "    <tr style=\"text-align: right;\">\n",
       "      <th></th>\n",
       "      <th>value_type</th>\n",
       "      <th>value</th>\n",
       "    </tr>\n",
       "    <tr>\n",
       "      <th>timestamp</th>\n",
       "      <th></th>\n",
       "      <th></th>\n",
       "    </tr>\n",
       "  </thead>\n",
       "  <tbody>\n",
       "    <tr>\n",
       "      <th>2023-02-01 03:00:35.980314+03:00</th>\n",
       "      <td>P2</td>\n",
       "      <td>73.4</td>\n",
       "    </tr>\n",
       "    <tr>\n",
       "      <th>2023-02-01 03:00:35.980314+03:00</th>\n",
       "      <td>P1</td>\n",
       "      <td>89.0</td>\n",
       "    </tr>\n",
       "    <tr>\n",
       "      <th>2023-02-01 03:00:35.980314+03:00</th>\n",
       "      <td>P0</td>\n",
       "      <td>69.4</td>\n",
       "    </tr>\n",
       "    <tr>\n",
       "      <th>2023-02-01 03:00:39.779205+03:00</th>\n",
       "      <td>P2</td>\n",
       "      <td>4.0</td>\n",
       "    </tr>\n",
       "    <tr>\n",
       "      <th>2023-02-01 03:00:39.779205+03:00</th>\n",
       "      <td>P1</td>\n",
       "      <td>4.0</td>\n",
       "    </tr>\n",
       "  </tbody>\n",
       "</table>\n",
       "</div>"
      ],
      "text/plain": [
       "                                 value_type  value\n",
       "timestamp                                         \n",
       "2023-02-01 03:00:35.980314+03:00         P2   73.4\n",
       "2023-02-01 03:00:35.980314+03:00         P1   89.0\n",
       "2023-02-01 03:00:35.980314+03:00         P0   69.4\n",
       "2023-02-01 03:00:39.779205+03:00         P2    4.0\n",
       "2023-02-01 03:00:39.779205+03:00         P1    4.0"
      ]
     },
     "execution_count": 57,
     "metadata": {},
     "output_type": "execute_result"
    }
   ],
   "source": [
    "df1_split.head()"
   ]
  },
  {
   "cell_type": "code",
   "execution_count": null,
   "id": "79feb19f-8d5c-425a-9d1d-1396bce4b9c4",
   "metadata": {},
   "outputs": [],
   "source": [
    "# df1_split = df1_split > 500"
   ]
  },
  {
   "cell_type": "code",
   "execution_count": 80,
   "id": "e941c00e-a512-4745-b757-681126b42b63",
   "metadata": {
    "tags": []
   },
   "outputs": [
    {
     "data": {
      "text/html": [
       "<div>\n",
       "<style scoped>\n",
       "    .dataframe tbody tr th:only-of-type {\n",
       "        vertical-align: middle;\n",
       "    }\n",
       "\n",
       "    .dataframe tbody tr th {\n",
       "        vertical-align: top;\n",
       "    }\n",
       "\n",
       "    .dataframe thead th {\n",
       "        text-align: right;\n",
       "    }\n",
       "</style>\n",
       "<table border=\"1\" class=\"dataframe\">\n",
       "  <thead>\n",
       "    <tr style=\"text-align: right;\">\n",
       "      <th></th>\n",
       "      <th>value_type</th>\n",
       "      <th>value</th>\n",
       "    </tr>\n",
       "    <tr>\n",
       "      <th>timestamp</th>\n",
       "      <th></th>\n",
       "      <th></th>\n",
       "    </tr>\n",
       "  </thead>\n",
       "  <tbody>\n",
       "    <tr>\n",
       "      <th>2023-02-01 03:00:35.980314+03:00</th>\n",
       "      <td>P2</td>\n",
       "      <td>73.4</td>\n",
       "    </tr>\n",
       "    <tr>\n",
       "      <th>2023-02-01 03:00:39.779205+03:00</th>\n",
       "      <td>P2</td>\n",
       "      <td>4.0</td>\n",
       "    </tr>\n",
       "    <tr>\n",
       "      <th>2023-02-01 03:03:07.986144+03:00</th>\n",
       "      <td>P2</td>\n",
       "      <td>71.5</td>\n",
       "    </tr>\n",
       "    <tr>\n",
       "      <th>2023-02-01 03:03:19.729805+03:00</th>\n",
       "      <td>P2</td>\n",
       "      <td>3.0</td>\n",
       "    </tr>\n",
       "    <tr>\n",
       "      <th>2023-02-01 03:05:40.234854+03:00</th>\n",
       "      <td>P2</td>\n",
       "      <td>72.0</td>\n",
       "    </tr>\n",
       "    <tr>\n",
       "      <th>...</th>\n",
       "      <td>...</td>\n",
       "      <td>...</td>\n",
       "    </tr>\n",
       "    <tr>\n",
       "      <th>2023-03-01 02:54:41.380829+03:00</th>\n",
       "      <td>P2</td>\n",
       "      <td>15.4</td>\n",
       "    </tr>\n",
       "    <tr>\n",
       "      <th>2023-03-01 02:54:41.604245+03:00</th>\n",
       "      <td>P2</td>\n",
       "      <td>71.0</td>\n",
       "    </tr>\n",
       "    <tr>\n",
       "      <th>2023-03-01 02:55:13.380789+03:00</th>\n",
       "      <td>P2</td>\n",
       "      <td>15.0</td>\n",
       "    </tr>\n",
       "    <tr>\n",
       "      <th>2023-03-01 02:55:45.429267+03:00</th>\n",
       "      <td>P2</td>\n",
       "      <td>13.0</td>\n",
       "    </tr>\n",
       "    <tr>\n",
       "      <th>2023-03-01 02:56:17.438376+03:00</th>\n",
       "      <td>P2</td>\n",
       "      <td>12.6</td>\n",
       "    </tr>\n",
       "  </tbody>\n",
       "</table>\n",
       "<p>91161 rows × 2 columns</p>\n",
       "</div>"
      ],
      "text/plain": [
       "                                 value_type  value\n",
       "timestamp                                         \n",
       "2023-02-01 03:00:35.980314+03:00         P2   73.4\n",
       "2023-02-01 03:00:39.779205+03:00         P2    4.0\n",
       "2023-02-01 03:03:07.986144+03:00         P2   71.5\n",
       "2023-02-01 03:03:19.729805+03:00         P2    3.0\n",
       "2023-02-01 03:05:40.234854+03:00         P2   72.0\n",
       "...                                     ...    ...\n",
       "2023-03-01 02:54:41.380829+03:00         P2   15.4\n",
       "2023-03-01 02:54:41.604245+03:00         P2   71.0\n",
       "2023-03-01 02:55:13.380789+03:00         P2   15.0\n",
       "2023-03-01 02:55:45.429267+03:00         P2   13.0\n",
       "2023-03-01 02:56:17.438376+03:00         P2   12.6\n",
       "\n",
       "[91161 rows x 2 columns]"
      ]
     },
     "execution_count": 80,
     "metadata": {},
     "output_type": "execute_result"
    }
   ],
   "source": [
    "df1_split_p2 = df1_split[df1_split[\"value_type\"] == \"P2\"]\n",
    "df1_split_p2"
   ]
  },
  {
   "cell_type": "code",
   "execution_count": 78,
   "id": "fbe085f5-11f1-4fdd-a55f-1cfb056de225",
   "metadata": {
    "tags": []
   },
   "outputs": [],
   "source": [
    "df1_split_p2 = df1_split[df1_split[\"value\"]< 500]"
   ]
  },
  {
   "cell_type": "code",
   "execution_count": 81,
   "id": "ace6f098-65c6-4674-8c01-ce7fc511f2b5",
   "metadata": {
    "tags": []
   },
   "outputs": [],
   "source": [
    "df1_split_p2= df1_split_p2.rename(columns = {\"value\":\"P2\"})"
   ]
  },
  {
   "cell_type": "code",
   "execution_count": 82,
   "id": "050770cc-b7db-4a91-ba3d-7291a59c35f7",
   "metadata": {
    "tags": []
   },
   "outputs": [
    {
     "data": {
      "text/html": [
       "<div>\n",
       "<style scoped>\n",
       "    .dataframe tbody tr th:only-of-type {\n",
       "        vertical-align: middle;\n",
       "    }\n",
       "\n",
       "    .dataframe tbody tr th {\n",
       "        vertical-align: top;\n",
       "    }\n",
       "\n",
       "    .dataframe thead th {\n",
       "        text-align: right;\n",
       "    }\n",
       "</style>\n",
       "<table border=\"1\" class=\"dataframe\">\n",
       "  <thead>\n",
       "    <tr style=\"text-align: right;\">\n",
       "      <th></th>\n",
       "      <th>value_type</th>\n",
       "      <th>P2</th>\n",
       "    </tr>\n",
       "    <tr>\n",
       "      <th>timestamp</th>\n",
       "      <th></th>\n",
       "      <th></th>\n",
       "    </tr>\n",
       "  </thead>\n",
       "  <tbody>\n",
       "    <tr>\n",
       "      <th>2023-02-01 03:00:35.980314+03:00</th>\n",
       "      <td>P2</td>\n",
       "      <td>73.4</td>\n",
       "    </tr>\n",
       "    <tr>\n",
       "      <th>2023-02-01 03:00:39.779205+03:00</th>\n",
       "      <td>P2</td>\n",
       "      <td>4.0</td>\n",
       "    </tr>\n",
       "    <tr>\n",
       "      <th>2023-02-01 03:03:07.986144+03:00</th>\n",
       "      <td>P2</td>\n",
       "      <td>71.5</td>\n",
       "    </tr>\n",
       "    <tr>\n",
       "      <th>2023-02-01 03:03:19.729805+03:00</th>\n",
       "      <td>P2</td>\n",
       "      <td>3.0</td>\n",
       "    </tr>\n",
       "    <tr>\n",
       "      <th>2023-02-01 03:05:40.234854+03:00</th>\n",
       "      <td>P2</td>\n",
       "      <td>72.0</td>\n",
       "    </tr>\n",
       "  </tbody>\n",
       "</table>\n",
       "</div>"
      ],
      "text/plain": [
       "                                 value_type    P2\n",
       "timestamp                                        \n",
       "2023-02-01 03:00:35.980314+03:00         P2  73.4\n",
       "2023-02-01 03:00:39.779205+03:00         P2   4.0\n",
       "2023-02-01 03:03:07.986144+03:00         P2  71.5\n",
       "2023-02-01 03:03:19.729805+03:00         P2   3.0\n",
       "2023-02-01 03:05:40.234854+03:00         P2  72.0"
      ]
     },
     "execution_count": 82,
     "metadata": {},
     "output_type": "execute_result"
    }
   ],
   "source": [
    "df1_split_p2.head()"
   ]
  },
  {
   "cell_type": "code",
   "execution_count": 84,
   "id": "aa066db2-c01d-4b82-a01f-ac2db6116c69",
   "metadata": {
    "tags": []
   },
   "outputs": [],
   "source": [
    "df1_split_p2.drop(columns = [\"value_type\"], inplace=True)"
   ]
  },
  {
   "cell_type": "code",
   "execution_count": 85,
   "id": "b85ce459-21d9-416f-a628-7ca322fd58b0",
   "metadata": {
    "tags": []
   },
   "outputs": [
    {
     "data": {
      "text/html": [
       "<div>\n",
       "<style scoped>\n",
       "    .dataframe tbody tr th:only-of-type {\n",
       "        vertical-align: middle;\n",
       "    }\n",
       "\n",
       "    .dataframe tbody tr th {\n",
       "        vertical-align: top;\n",
       "    }\n",
       "\n",
       "    .dataframe thead th {\n",
       "        text-align: right;\n",
       "    }\n",
       "</style>\n",
       "<table border=\"1\" class=\"dataframe\">\n",
       "  <thead>\n",
       "    <tr style=\"text-align: right;\">\n",
       "      <th></th>\n",
       "      <th>P2</th>\n",
       "    </tr>\n",
       "    <tr>\n",
       "      <th>timestamp</th>\n",
       "      <th></th>\n",
       "    </tr>\n",
       "  </thead>\n",
       "  <tbody>\n",
       "    <tr>\n",
       "      <th>2023-02-01 03:00:35.980314+03:00</th>\n",
       "      <td>73.4</td>\n",
       "    </tr>\n",
       "    <tr>\n",
       "      <th>2023-02-01 03:00:39.779205+03:00</th>\n",
       "      <td>4.0</td>\n",
       "    </tr>\n",
       "    <tr>\n",
       "      <th>2023-02-01 03:03:07.986144+03:00</th>\n",
       "      <td>71.5</td>\n",
       "    </tr>\n",
       "    <tr>\n",
       "      <th>2023-02-01 03:03:19.729805+03:00</th>\n",
       "      <td>3.0</td>\n",
       "    </tr>\n",
       "    <tr>\n",
       "      <th>2023-02-01 03:05:40.234854+03:00</th>\n",
       "      <td>72.0</td>\n",
       "    </tr>\n",
       "    <tr>\n",
       "      <th>...</th>\n",
       "      <td>...</td>\n",
       "    </tr>\n",
       "    <tr>\n",
       "      <th>2023-03-01 02:54:41.380829+03:00</th>\n",
       "      <td>15.4</td>\n",
       "    </tr>\n",
       "    <tr>\n",
       "      <th>2023-03-01 02:54:41.604245+03:00</th>\n",
       "      <td>71.0</td>\n",
       "    </tr>\n",
       "    <tr>\n",
       "      <th>2023-03-01 02:55:13.380789+03:00</th>\n",
       "      <td>15.0</td>\n",
       "    </tr>\n",
       "    <tr>\n",
       "      <th>2023-03-01 02:55:45.429267+03:00</th>\n",
       "      <td>13.0</td>\n",
       "    </tr>\n",
       "    <tr>\n",
       "      <th>2023-03-01 02:56:17.438376+03:00</th>\n",
       "      <td>12.6</td>\n",
       "    </tr>\n",
       "  </tbody>\n",
       "</table>\n",
       "<p>91161 rows × 1 columns</p>\n",
       "</div>"
      ],
      "text/plain": [
       "                                    P2\n",
       "timestamp                             \n",
       "2023-02-01 03:00:35.980314+03:00  73.4\n",
       "2023-02-01 03:00:39.779205+03:00   4.0\n",
       "2023-02-01 03:03:07.986144+03:00  71.5\n",
       "2023-02-01 03:03:19.729805+03:00   3.0\n",
       "2023-02-01 03:05:40.234854+03:00  72.0\n",
       "...                                ...\n",
       "2023-03-01 02:54:41.380829+03:00  15.4\n",
       "2023-03-01 02:54:41.604245+03:00  71.0\n",
       "2023-03-01 02:55:13.380789+03:00  15.0\n",
       "2023-03-01 02:55:45.429267+03:00  13.0\n",
       "2023-03-01 02:56:17.438376+03:00  12.6\n",
       "\n",
       "[91161 rows x 1 columns]"
      ]
     },
     "execution_count": 85,
     "metadata": {},
     "output_type": "execute_result"
    }
   ],
   "source": [
    "df1_split_p2"
   ]
  },
  {
   "cell_type": "markdown",
   "id": "1576ec96-d502-4650-8397-81d5141529ec",
   "metadata": {},
   "source": [
    "files= glob(\"data/mexico-city-real-estate-*.csv\")\n",
    "files"
   ]
  },
  {
   "cell_type": "markdown",
   "id": "0cb4f112-60e7-476b-9539-89361a011ef8",
   "metadata": {},
   "source": [
    "A function to do the entire data cleaning for all the files"
   ]
  },
  {
   "cell_type": "code",
   "execution_count": 1,
   "id": "60049c37-e7d4-4f26-92f4-0dc8ff4a3079",
   "metadata": {},
   "outputs": [],
   "source": [
    "def wrangle(filepath):\n",
    "    # read_csv file\n",
    "    df=pd.read_csv(filepath)\n",
    "    \n",
    "    # split the columns\n",
    "    df= df[\"sensor_id;sensor_type;location;lat;lon;timestamp;value_type;value\"].str.split (';', expand= True)\n",
    "\n",
    "    #rename the columns \n",
    "    df.columns = [\"sensor_id\", \"sensor_type\", \"location\",\"lat\", \"lon\", \"timestamp\", \"value_type\", \"value\"]\n",
    "    \n",
    "    # change the value column data to float \n",
    "    df[\"value\"] = df[\"value\"].astype(float)\n",
    "    \n",
    "    # change timestamp to datetime fortmat \n",
    "    df[\"timestamp\"]= pd.to_datetime(df[\"timestamp\"], errors = \"coerce\")\n",
    "    \n",
    "    # change the index to be timestamp\n",
    "    df.set_index(\"timestamp\", inplace=True)\n",
    "    \n",
    "    # To avoid errors ensure timestamp has timezone\n",
    "    if df.index.tz is None:\n",
    "        df.index = df.index.tz_localize(\"UTC\")\n",
    "    # change timezone to EAT(Nairobi) \n",
    "    df.index = df.index.tz_convert(\"Africa/Nairobi\")\n",
    "    \n",
    "    # View only P2 Values \n",
    "    df= df[df[\"value_type\"] == \"P2\"]\n",
    "\n",
    "    # We need values less than 500\n",
    "    df = df[df[\"value\"]< 500]\n",
    "    \n",
    "    #rename the 'value' column to P2\n",
    "    df= df.rename(columns = {\"value\":\"P2\"})\n",
    "    \n",
    "    # drop redudant columns for the experiment\n",
    "    df.drop(columns = [\"location\", \"sensor_type\", \"sensor_id\", 'lat', \"lon\", \"value_type\"], inplace=True)\n",
    "    \n",
    "    return df"
   ]
  },
  {
   "cell_type": "code",
   "execution_count": null,
   "id": "ef6cfbc9-acc7-4e61-b4f8-3d236f63561a",
   "metadata": {},
   "outputs": [],
   "source": []
  }
 ],
 "metadata": {
  "kernelspec": {
   "display_name": "Python 3 (ipykernel)",
   "language": "python",
   "name": "python3"
  },
  "language_info": {
   "codemirror_mode": {
    "name": "ipython",
    "version": 3
   },
   "file_extension": ".py",
   "mimetype": "text/x-python",
   "name": "python",
   "nbconvert_exporter": "python",
   "pygments_lexer": "ipython3",
   "version": "3.11.5"
  }
 },
 "nbformat": 4,
 "nbformat_minor": 5
}
